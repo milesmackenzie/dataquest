{
 "cells": [
  {
   "cell_type": "markdown",
   "metadata": {
    "collapsed": true
   },
   "source": [
    "## Creating run_query(), run_command(),  and show_tables() functions"
   ]
  },
  {
   "cell_type": "code",
   "execution_count": 1,
   "metadata": {},
   "outputs": [
    {
     "name": "stdout",
     "output_type": "stream",
     "text": [
      "              name   type\n",
      "0            album  table\n",
      "1           artist  table\n",
      "2         customer  table\n",
      "3         employee  table\n",
      "4            genre  table\n",
      "5          invoice  table\n",
      "6     invoice_line  table\n",
      "7       media_type  table\n",
      "8         playlist  table\n",
      "9   playlist_track  table\n",
      "10           track  table\n"
     ]
    },
    {
     "data": {
      "text/html": [
       "<div>\n",
       "<style>\n",
       "    .dataframe thead tr:only-child th {\n",
       "        text-align: right;\n",
       "    }\n",
       "\n",
       "    .dataframe thead th {\n",
       "        text-align: left;\n",
       "    }\n",
       "\n",
       "    .dataframe tbody tr th {\n",
       "        vertical-align: top;\n",
       "    }\n",
       "</style>\n",
       "<table border=\"1\" class=\"dataframe\">\n",
       "  <thead>\n",
       "    <tr style=\"text-align: right;\">\n",
       "      <th></th>\n",
       "      <th>name</th>\n",
       "      <th>type</th>\n",
       "    </tr>\n",
       "  </thead>\n",
       "  <tbody>\n",
       "    <tr>\n",
       "      <th>0</th>\n",
       "      <td>album</td>\n",
       "      <td>table</td>\n",
       "    </tr>\n",
       "    <tr>\n",
       "      <th>1</th>\n",
       "      <td>artist</td>\n",
       "      <td>table</td>\n",
       "    </tr>\n",
       "    <tr>\n",
       "      <th>2</th>\n",
       "      <td>customer</td>\n",
       "      <td>table</td>\n",
       "    </tr>\n",
       "    <tr>\n",
       "      <th>3</th>\n",
       "      <td>employee</td>\n",
       "      <td>table</td>\n",
       "    </tr>\n",
       "    <tr>\n",
       "      <th>4</th>\n",
       "      <td>genre</td>\n",
       "      <td>table</td>\n",
       "    </tr>\n",
       "    <tr>\n",
       "      <th>5</th>\n",
       "      <td>invoice</td>\n",
       "      <td>table</td>\n",
       "    </tr>\n",
       "    <tr>\n",
       "      <th>6</th>\n",
       "      <td>invoice_line</td>\n",
       "      <td>table</td>\n",
       "    </tr>\n",
       "    <tr>\n",
       "      <th>7</th>\n",
       "      <td>media_type</td>\n",
       "      <td>table</td>\n",
       "    </tr>\n",
       "    <tr>\n",
       "      <th>8</th>\n",
       "      <td>playlist</td>\n",
       "      <td>table</td>\n",
       "    </tr>\n",
       "    <tr>\n",
       "      <th>9</th>\n",
       "      <td>playlist_track</td>\n",
       "      <td>table</td>\n",
       "    </tr>\n",
       "    <tr>\n",
       "      <th>10</th>\n",
       "      <td>track</td>\n",
       "      <td>table</td>\n",
       "    </tr>\n",
       "  </tbody>\n",
       "</table>\n",
       "</div>"
      ],
      "text/plain": [
       "              name   type\n",
       "0            album  table\n",
       "1           artist  table\n",
       "2         customer  table\n",
       "3         employee  table\n",
       "4            genre  table\n",
       "5          invoice  table\n",
       "6     invoice_line  table\n",
       "7       media_type  table\n",
       "8         playlist  table\n",
       "9   playlist_track  table\n",
       "10           track  table"
      ]
     },
     "execution_count": 1,
     "metadata": {},
     "output_type": "execute_result"
    }
   ],
   "source": [
    "import pandas as pd\n",
    "import sqlite3\n",
    "import matplotlib.pyplot as plt\n",
    "\n",
    "%matplotlib inline\n",
    "\n",
    "\n",
    "def run_query(q):\n",
    "    with sqlite3.connect('chinook.db') as conn:\n",
    "        return pd.read_sql_query(q,conn)\n",
    "    \n",
    "def run_command(c):\n",
    "    with sqlite3.connect(db) as conn:\n",
    "        conn.isolation_level = None\n",
    "        conn.execute(c)\n",
    "def show_tables():\n",
    "    q = \"\"\" SELECT\n",
    "    name,\n",
    "    type\n",
    "FROM sqlite_master\n",
    "WHERE type IN (\"table\",\"view\");\n",
    "\"\"\"\n",
    "    return run_query(q)\n",
    "\n",
    "# Running show_tables() function to return list of tables and\n",
    "# views in database\n",
    "\n",
    "print (show_tables())\n",
    "show_tables()\n",
    "    \n",
    "    "
   ]
  },
  {
   "cell_type": "markdown",
   "metadata": {
    "collapsed": true
   },
   "source": [
    "## Writing query that returns number of tracks old for each genre"
   ]
  },
  {
   "cell_type": "code",
   "execution_count": 2,
   "metadata": {},
   "outputs": [
    {
     "data": {
      "text/html": [
       "<div>\n",
       "<style>\n",
       "    .dataframe thead tr:only-child th {\n",
       "        text-align: right;\n",
       "    }\n",
       "\n",
       "    .dataframe thead th {\n",
       "        text-align: left;\n",
       "    }\n",
       "\n",
       "    .dataframe tbody tr th {\n",
       "        vertical-align: top;\n",
       "    }\n",
       "</style>\n",
       "<table border=\"1\" class=\"dataframe\">\n",
       "  <thead>\n",
       "    <tr style=\"text-align: right;\">\n",
       "      <th></th>\n",
       "      <th>genre</th>\n",
       "      <th>tracks_sold</th>\n",
       "      <th>percentage</th>\n",
       "    </tr>\n",
       "  </thead>\n",
       "  <tbody>\n",
       "    <tr>\n",
       "      <th>0</th>\n",
       "      <td>Rock</td>\n",
       "      <td>561</td>\n",
       "      <td>0.533777</td>\n",
       "    </tr>\n",
       "    <tr>\n",
       "      <th>1</th>\n",
       "      <td>Alternative &amp; Punk</td>\n",
       "      <td>130</td>\n",
       "      <td>0.123692</td>\n",
       "    </tr>\n",
       "    <tr>\n",
       "      <th>2</th>\n",
       "      <td>Metal</td>\n",
       "      <td>124</td>\n",
       "      <td>0.117983</td>\n",
       "    </tr>\n",
       "    <tr>\n",
       "      <th>3</th>\n",
       "      <td>R&amp;B/Soul</td>\n",
       "      <td>53</td>\n",
       "      <td>0.050428</td>\n",
       "    </tr>\n",
       "    <tr>\n",
       "      <th>4</th>\n",
       "      <td>Blues</td>\n",
       "      <td>36</td>\n",
       "      <td>0.034253</td>\n",
       "    </tr>\n",
       "    <tr>\n",
       "      <th>5</th>\n",
       "      <td>Alternative</td>\n",
       "      <td>35</td>\n",
       "      <td>0.033302</td>\n",
       "    </tr>\n",
       "    <tr>\n",
       "      <th>6</th>\n",
       "      <td>Latin</td>\n",
       "      <td>22</td>\n",
       "      <td>0.020932</td>\n",
       "    </tr>\n",
       "    <tr>\n",
       "      <th>7</th>\n",
       "      <td>Pop</td>\n",
       "      <td>22</td>\n",
       "      <td>0.020932</td>\n",
       "    </tr>\n",
       "    <tr>\n",
       "      <th>8</th>\n",
       "      <td>Hip Hop/Rap</td>\n",
       "      <td>20</td>\n",
       "      <td>0.019029</td>\n",
       "    </tr>\n",
       "    <tr>\n",
       "      <th>9</th>\n",
       "      <td>Jazz</td>\n",
       "      <td>14</td>\n",
       "      <td>0.013321</td>\n",
       "    </tr>\n",
       "    <tr>\n",
       "      <th>10</th>\n",
       "      <td>Easy Listening</td>\n",
       "      <td>13</td>\n",
       "      <td>0.012369</td>\n",
       "    </tr>\n",
       "    <tr>\n",
       "      <th>11</th>\n",
       "      <td>Reggae</td>\n",
       "      <td>6</td>\n",
       "      <td>0.005709</td>\n",
       "    </tr>\n",
       "    <tr>\n",
       "      <th>12</th>\n",
       "      <td>Electronica/Dance</td>\n",
       "      <td>5</td>\n",
       "      <td>0.004757</td>\n",
       "    </tr>\n",
       "    <tr>\n",
       "      <th>13</th>\n",
       "      <td>Classical</td>\n",
       "      <td>4</td>\n",
       "      <td>0.003806</td>\n",
       "    </tr>\n",
       "    <tr>\n",
       "      <th>14</th>\n",
       "      <td>Heavy Metal</td>\n",
       "      <td>3</td>\n",
       "      <td>0.002854</td>\n",
       "    </tr>\n",
       "    <tr>\n",
       "      <th>15</th>\n",
       "      <td>Soundtrack</td>\n",
       "      <td>2</td>\n",
       "      <td>0.001903</td>\n",
       "    </tr>\n",
       "    <tr>\n",
       "      <th>16</th>\n",
       "      <td>TV Shows</td>\n",
       "      <td>1</td>\n",
       "      <td>0.000951</td>\n",
       "    </tr>\n",
       "  </tbody>\n",
       "</table>\n",
       "</div>"
      ],
      "text/plain": [
       "                 genre  tracks_sold  percentage\n",
       "0                 Rock          561    0.533777\n",
       "1   Alternative & Punk          130    0.123692\n",
       "2                Metal          124    0.117983\n",
       "3             R&B/Soul           53    0.050428\n",
       "4                Blues           36    0.034253\n",
       "5          Alternative           35    0.033302\n",
       "6                Latin           22    0.020932\n",
       "7                  Pop           22    0.020932\n",
       "8          Hip Hop/Rap           20    0.019029\n",
       "9                 Jazz           14    0.013321\n",
       "10      Easy Listening           13    0.012369\n",
       "11              Reggae            6    0.005709\n",
       "12   Electronica/Dance            5    0.004757\n",
       "13           Classical            4    0.003806\n",
       "14         Heavy Metal            3    0.002854\n",
       "15          Soundtrack            2    0.001903\n",
       "16            TV Shows            1    0.000951"
      ]
     },
     "execution_count": 2,
     "metadata": {},
     "output_type": "execute_result"
    }
   ],
   "source": [
    "q = \"\"\"\n",
    "\n",
    "\n",
    "WITH\n",
    "    customers AS\n",
    "        (SELECT * FROM invoice i\n",
    "        INNER JOIN customer c ON c.customer_id = i.customer_id\n",
    "        WHERE country = \"USA\"\n",
    "        GROUP BY 1\n",
    "        ),\n",
    "    inln AS\n",
    "        (SELECT * FROM invoice_line il\n",
    "        INNER JOIN customers c ON c.invoice_id = il.invoice_id\n",
    "        ),\n",
    "    tracks AS\n",
    "        (SELECT * FROM genre g\n",
    "        INNER JOIN track tr ON g.genre_id = tr.genre_id\n",
    "        ),\n",
    "    al AS\n",
    "        (SELECT name genre, COUNT(trs.track_id) tracks_sold, invoice_line_id FROM tracks trs\n",
    "        INNER JOIN inln ON inln.track_id = trs.track_id\n",
    "        GROUP BY 1\n",
    "        ORDER BY 2 DESC\n",
    "        )\n",
    "    \n",
    "SELECT genre, tracks_sold, CAST(tracks_sold AS FLOAT) / 1051 percentage \n",
    "FROM al \n",
    "GROUP BY 1\n",
    "ORDER BY 2 DESC;\n",
    "    \"\"\"\n",
    "\n",
    "run_query(q)\n"
   ]
  },
  {
   "cell_type": "markdown",
   "metadata": {},
   "source": [
    "## Generating bar plot for the percent of tracks sold by genre in the US\n"
   ]
  },
  {
   "cell_type": "code",
   "execution_count": 3,
   "metadata": {},
   "outputs": [
    {
     "data": {
      "text/plain": [
       "<matplotlib.axes._subplots.AxesSubplot at 0x109e6e0f0>"
      ]
     },
     "execution_count": 3,
     "metadata": {},
     "output_type": "execute_result"
    },
    {
     "data": {
      "image/png": "[encoded data removed]",
      "text/plain": [
       "<matplotlib.figure.Figure at 0x1063e1240>"
      ]
     },
     "metadata": {},
     "output_type": "display_data"
    }
   ],
   "source": [
    "with sqlite3.connect('chinook.db') as conn:\n",
    "    df = pd.read_sql_query(q,conn)\n",
    "\n",
    "df.set_index(\"genre\", inplace=True, drop=True)    \n",
    "df[\"percentage\"].plot.barh(\n",
    "    title=\"Percent of Tracks Sold in USA by Genre\"\n",
    ")\n"
   ]
  },
  {
   "cell_type": "markdown",
   "metadata": {
    "collapsed": true
   },
   "source": [
    "## Generating bar plot for total tracks sold in the USA by genre"
   ]
  },
  {
   "cell_type": "code",
   "execution_count": 4,
   "metadata": {},
   "outputs": [
    {
     "data": {
      "text/plain": [
       "<matplotlib.axes._subplots.AxesSubplot at 0x109e26f60>"
      ]
     },
     "execution_count": 4,
     "metadata": {},
     "output_type": "execute_result"
    },
    {
     "data": {
      "image/png": "[encoded data removed]",
      "text/plain": [
       "<matplotlib.figure.Figure at 0x109e34908>"
      ]
     },
     "metadata": {},
     "output_type": "display_data"
    }
   ],
   "source": [
    "df[\"tracks_sold\"].plot.barh(\n",
    "    title=\"Total Tracks Sold in USA by Genre\"\n",
    ")"
   ]
  },
  {
   "cell_type": "markdown",
   "metadata": {
    "collapsed": true
   },
   "source": [
    "The Chinook record store wanted recommendations of which artist to sign based on which genre had higher sales. Out of the four artists they are looking at (Regal - Hip-Hop, Red Tone - Punk, Meteor and the Girls - Pop and Slim Jim Bites - Blues), I would recommend to sign Red Tone (Punk) and Slim Jim Bites (Blues) based on the percentages from previous sales."
   ]
  },
  {
   "cell_type": "markdown",
   "metadata": {},
   "source": [
    "## Writing query that find total dollar amount of sales assigned to each sales support agent\n",
    "        "
   ]
  },
  {
   "cell_type": "code",
   "execution_count": 5,
   "metadata": {},
   "outputs": [
    {
     "data": {
      "text/html": [
       "<div>\n",
       "<style>\n",
       "    .dataframe thead tr:only-child th {\n",
       "        text-align: right;\n",
       "    }\n",
       "\n",
       "    .dataframe thead th {\n",
       "        text-align: left;\n",
       "    }\n",
       "\n",
       "    .dataframe tbody tr th {\n",
       "        vertical-align: top;\n",
       "    }\n",
       "</style>\n",
       "<table border=\"1\" class=\"dataframe\">\n",
       "  <thead>\n",
       "    <tr style=\"text-align: right;\">\n",
       "      <th></th>\n",
       "      <th>total_amount_sold</th>\n",
       "      <th>name</th>\n",
       "      <th>title</th>\n",
       "      <th>hire_date</th>\n",
       "    </tr>\n",
       "  </thead>\n",
       "  <tbody>\n",
       "    <tr>\n",
       "      <th>0</th>\n",
       "      <td>1393.92</td>\n",
       "      <td>Steve Johnson</td>\n",
       "      <td>Sales Support Agent</td>\n",
       "      <td>2017-10-17 00:00:00</td>\n",
       "    </tr>\n",
       "    <tr>\n",
       "      <th>1</th>\n",
       "      <td>1584.00</td>\n",
       "      <td>Margaret Park</td>\n",
       "      <td>Sales Support Agent</td>\n",
       "      <td>2017-05-03 00:00:00</td>\n",
       "    </tr>\n",
       "    <tr>\n",
       "      <th>2</th>\n",
       "      <td>1731.51</td>\n",
       "      <td>Jane Peacock</td>\n",
       "      <td>Sales Support Agent</td>\n",
       "      <td>2017-04-01 00:00:00</td>\n",
       "    </tr>\n",
       "  </tbody>\n",
       "</table>\n",
       "</div>"
      ],
      "text/plain": [
       "   total_amount_sold           name                title            hire_date\n",
       "0            1393.92  Steve Johnson  Sales Support Agent  2017-10-17 00:00:00\n",
       "1            1584.00  Margaret Park  Sales Support Agent  2017-05-03 00:00:00\n",
       "2            1731.51   Jane Peacock  Sales Support Agent  2017-04-01 00:00:00"
      ]
     },
     "execution_count": 5,
     "metadata": {},
     "output_type": "execute_result"
    }
   ],
   "source": [
    "q = \"\"\"\n",
    "WITH \n",
    "    names AS\n",
    "        (SELECT * FROM employee e \n",
    "        INNER JOIN customer c ON c.support_rep_id = e.employee_id\n",
    "        INNER JOIN invoice i ON i.customer_id = c.customer_id\n",
    "        )\n",
    "   \n",
    "SELECT SUM(total) total_amount_sold, first_name || \" \" || last_name name, title, hire_date FROM names GROUP BY 2 ORDER BY 4 DESC;\n",
    "\"\"\"\n",
    "run_query(q)"
   ]
  },
  {
   "cell_type": "markdown",
   "metadata": {},
   "source": [
    "Based on the total dollar amounts, Jane Peacock has the highest value. However, when looking at the hire date for all employees, Jane was hired in April, Margaret in May and Steve in October of the same year. A better test would be to find the productivity over time for each employee. From a first glance, Steve has the highest productivity depending on what the date these statistics were gathered. "
   ]
  },
  {
   "cell_type": "markdown",
   "metadata": {},
   "source": [
    "## Generating plot of total dollar amount per sales employee"
   ]
  },
  {
   "cell_type": "code",
   "execution_count": 6,
   "metadata": {},
   "outputs": [
    {
     "data": {
      "text/plain": [
       "<matplotlib.axes._subplots.AxesSubplot at 0x111722cc0>"
      ]
     },
     "execution_count": 6,
     "metadata": {},
     "output_type": "execute_result"
    },
    {
     "data": {
      "image/png": "[encoded data removed]",
      "text/plain": [
       "<matplotlib.figure.Figure at 0x109e347f0>"
      ]
     },
     "metadata": {},
     "output_type": "display_data"
    }
   ],
   "source": [
    "with sqlite3.connect('chinook.db') as conn:\n",
    "    df = pd.read_sql_query(q,conn)\n",
    "\n",
    "df.set_index(\"name\", inplace=True, drop=True)    \n",
    "\n",
    "df[\"total_amount_sold\"].plot.bar(\n",
    "    title=\"Total Dollar Amounts Sold per Sales Employee\"\n",
    ")\n",
    " \n"
   ]
  },
  {
   "cell_type": "markdown",
   "metadata": {},
   "source": [
    "## Query that collates data on purchases from different countries"
   ]
  },
  {
   "cell_type": "code",
   "execution_count": 7,
   "metadata": {},
   "outputs": [
    {
     "data": {
      "text/html": [
       "<div>\n",
       "<style>\n",
       "    .dataframe thead tr:only-child th {\n",
       "        text-align: right;\n",
       "    }\n",
       "\n",
       "    .dataframe thead th {\n",
       "        text-align: left;\n",
       "    }\n",
       "\n",
       "    .dataframe tbody tr th {\n",
       "        vertical-align: top;\n",
       "    }\n",
       "</style>\n",
       "<table border=\"1\" class=\"dataframe\">\n",
       "  <thead>\n",
       "    <tr style=\"text-align: right;\">\n",
       "      <th></th>\n",
       "      <th>amount</th>\n",
       "      <th>country</th>\n",
       "      <th>customers</th>\n",
       "      <th>number_of_purchases</th>\n",
       "      <th>average_price_per_purchase</th>\n",
       "    </tr>\n",
       "  </thead>\n",
       "  <tbody>\n",
       "    <tr>\n",
       "      <th>0</th>\n",
       "      <td>1040.49</td>\n",
       "      <td>USA</td>\n",
       "      <td>13</td>\n",
       "      <td>131</td>\n",
       "      <td>7.942672</td>\n",
       "    </tr>\n",
       "    <tr>\n",
       "      <th>1</th>\n",
       "      <td>535.59</td>\n",
       "      <td>Canada</td>\n",
       "      <td>8</td>\n",
       "      <td>76</td>\n",
       "      <td>7.047237</td>\n",
       "    </tr>\n",
       "    <tr>\n",
       "      <th>2</th>\n",
       "      <td>427.68</td>\n",
       "      <td>Brazil</td>\n",
       "      <td>5</td>\n",
       "      <td>61</td>\n",
       "      <td>7.011148</td>\n",
       "    </tr>\n",
       "    <tr>\n",
       "      <th>3</th>\n",
       "      <td>389.07</td>\n",
       "      <td>France</td>\n",
       "      <td>5</td>\n",
       "      <td>50</td>\n",
       "      <td>7.781400</td>\n",
       "    </tr>\n",
       "    <tr>\n",
       "      <th>4</th>\n",
       "      <td>334.62</td>\n",
       "      <td>Germany</td>\n",
       "      <td>4</td>\n",
       "      <td>41</td>\n",
       "      <td>8.161463</td>\n",
       "    </tr>\n",
       "    <tr>\n",
       "      <th>5</th>\n",
       "      <td>245.52</td>\n",
       "      <td>United Kingdom</td>\n",
       "      <td>3</td>\n",
       "      <td>28</td>\n",
       "      <td>8.768571</td>\n",
       "    </tr>\n",
       "    <tr>\n",
       "      <th>6</th>\n",
       "      <td>273.24</td>\n",
       "      <td>Czech Republic</td>\n",
       "      <td>2</td>\n",
       "      <td>30</td>\n",
       "      <td>9.108000</td>\n",
       "    </tr>\n",
       "    <tr>\n",
       "      <th>7</th>\n",
       "      <td>183.15</td>\n",
       "      <td>India</td>\n",
       "      <td>2</td>\n",
       "      <td>21</td>\n",
       "      <td>8.721429</td>\n",
       "    </tr>\n",
       "    <tr>\n",
       "      <th>8</th>\n",
       "      <td>185.13</td>\n",
       "      <td>Portugal</td>\n",
       "      <td>2</td>\n",
       "      <td>29</td>\n",
       "      <td>6.383793</td>\n",
       "    </tr>\n",
       "    <tr>\n",
       "      <th>9</th>\n",
       "      <td>39.60</td>\n",
       "      <td>Argentina</td>\n",
       "      <td>1</td>\n",
       "      <td>5</td>\n",
       "      <td>7.920000</td>\n",
       "    </tr>\n",
       "    <tr>\n",
       "      <th>10</th>\n",
       "      <td>81.18</td>\n",
       "      <td>Australia</td>\n",
       "      <td>1</td>\n",
       "      <td>10</td>\n",
       "      <td>8.118000</td>\n",
       "    </tr>\n",
       "    <tr>\n",
       "      <th>11</th>\n",
       "      <td>69.30</td>\n",
       "      <td>Austria</td>\n",
       "      <td>1</td>\n",
       "      <td>9</td>\n",
       "      <td>7.700000</td>\n",
       "    </tr>\n",
       "    <tr>\n",
       "      <th>12</th>\n",
       "      <td>60.39</td>\n",
       "      <td>Belgium</td>\n",
       "      <td>1</td>\n",
       "      <td>7</td>\n",
       "      <td>8.627143</td>\n",
       "    </tr>\n",
       "    <tr>\n",
       "      <th>13</th>\n",
       "      <td>97.02</td>\n",
       "      <td>Chile</td>\n",
       "      <td>1</td>\n",
       "      <td>13</td>\n",
       "      <td>7.463077</td>\n",
       "    </tr>\n",
       "    <tr>\n",
       "      <th>14</th>\n",
       "      <td>37.62</td>\n",
       "      <td>Denmark</td>\n",
       "      <td>1</td>\n",
       "      <td>10</td>\n",
       "      <td>3.762000</td>\n",
       "    </tr>\n",
       "    <tr>\n",
       "      <th>15</th>\n",
       "      <td>79.20</td>\n",
       "      <td>Finland</td>\n",
       "      <td>1</td>\n",
       "      <td>11</td>\n",
       "      <td>7.200000</td>\n",
       "    </tr>\n",
       "    <tr>\n",
       "      <th>16</th>\n",
       "      <td>78.21</td>\n",
       "      <td>Hungary</td>\n",
       "      <td>1</td>\n",
       "      <td>10</td>\n",
       "      <td>7.821000</td>\n",
       "    </tr>\n",
       "    <tr>\n",
       "      <th>17</th>\n",
       "      <td>114.84</td>\n",
       "      <td>Ireland</td>\n",
       "      <td>1</td>\n",
       "      <td>13</td>\n",
       "      <td>8.833846</td>\n",
       "    </tr>\n",
       "    <tr>\n",
       "      <th>18</th>\n",
       "      <td>50.49</td>\n",
       "      <td>Italy</td>\n",
       "      <td>1</td>\n",
       "      <td>9</td>\n",
       "      <td>5.610000</td>\n",
       "    </tr>\n",
       "    <tr>\n",
       "      <th>19</th>\n",
       "      <td>65.34</td>\n",
       "      <td>Netherlands</td>\n",
       "      <td>1</td>\n",
       "      <td>10</td>\n",
       "      <td>6.534000</td>\n",
       "    </tr>\n",
       "    <tr>\n",
       "      <th>20</th>\n",
       "      <td>72.27</td>\n",
       "      <td>Norway</td>\n",
       "      <td>1</td>\n",
       "      <td>9</td>\n",
       "      <td>8.030000</td>\n",
       "    </tr>\n",
       "    <tr>\n",
       "      <th>21</th>\n",
       "      <td>76.23</td>\n",
       "      <td>Poland</td>\n",
       "      <td>1</td>\n",
       "      <td>10</td>\n",
       "      <td>7.623000</td>\n",
       "    </tr>\n",
       "    <tr>\n",
       "      <th>22</th>\n",
       "      <td>98.01</td>\n",
       "      <td>Spain</td>\n",
       "      <td>1</td>\n",
       "      <td>11</td>\n",
       "      <td>8.910000</td>\n",
       "    </tr>\n",
       "    <tr>\n",
       "      <th>23</th>\n",
       "      <td>75.24</td>\n",
       "      <td>Sweden</td>\n",
       "      <td>1</td>\n",
       "      <td>10</td>\n",
       "      <td>7.524000</td>\n",
       "    </tr>\n",
       "  </tbody>\n",
       "</table>\n",
       "</div>"
      ],
      "text/plain": [
       "     amount         country  customers  number_of_purchases  \\\n",
       "0   1040.49             USA         13                  131   \n",
       "1    535.59          Canada          8                   76   \n",
       "2    427.68          Brazil          5                   61   \n",
       "3    389.07          France          5                   50   \n",
       "4    334.62         Germany          4                   41   \n",
       "5    245.52  United Kingdom          3                   28   \n",
       "6    273.24  Czech Republic          2                   30   \n",
       "7    183.15           India          2                   21   \n",
       "8    185.13        Portugal          2                   29   \n",
       "9     39.60       Argentina          1                    5   \n",
       "10    81.18       Australia          1                   10   \n",
       "11    69.30         Austria          1                    9   \n",
       "12    60.39         Belgium          1                    7   \n",
       "13    97.02           Chile          1                   13   \n",
       "14    37.62         Denmark          1                   10   \n",
       "15    79.20         Finland          1                   11   \n",
       "16    78.21         Hungary          1                   10   \n",
       "17   114.84         Ireland          1                   13   \n",
       "18    50.49           Italy          1                    9   \n",
       "19    65.34     Netherlands          1                   10   \n",
       "20    72.27          Norway          1                    9   \n",
       "21    76.23          Poland          1                   10   \n",
       "22    98.01           Spain          1                   11   \n",
       "23    75.24          Sweden          1                   10   \n",
       "\n",
       "    average_price_per_purchase  \n",
       "0                     7.942672  \n",
       "1                     7.047237  \n",
       "2                     7.011148  \n",
       "3                     7.781400  \n",
       "4                     8.161463  \n",
       "5                     8.768571  \n",
       "6                     9.108000  \n",
       "7                     8.721429  \n",
       "8                     6.383793  \n",
       "9                     7.920000  \n",
       "10                    8.118000  \n",
       "11                    7.700000  \n",
       "12                    8.627143  \n",
       "13                    7.463077  \n",
       "14                    3.762000  \n",
       "15                    7.200000  \n",
       "16                    7.821000  \n",
       "17                    8.833846  \n",
       "18                    5.610000  \n",
       "19                    6.534000  \n",
       "20                    8.030000  \n",
       "21                    7.623000  \n",
       "22                    8.910000  \n",
       "23                    7.524000  "
      ]
     },
     "execution_count": 7,
     "metadata": {},
     "output_type": "execute_result"
    }
   ],
   "source": [
    "q = \"\"\"\n",
    "WITH \n",
    "    tot AS\n",
    "        (SELECT * FROM customer c\n",
    "        INNER JOIN invoice i ON i.customer_id = c.customer_id\n",
    "        )\n",
    "        \n",
    "SELECT  \n",
    "    SUM(total) amount, \n",
    "    country,\n",
    "    COUNT(DISTINCT customer_id) customers,\n",
    "    COUNT(*) number_of_purchases,\n",
    "    CAST(SUM(total) AS FLOAT) / COUNT(*) average_price_per_purchase\n",
    "FROM tot \n",
    "GROUP BY 2 \n",
    "ORDER BY 3 DESC;\n",
    "\"\"\"\n",
    "\n",
    "run_query(q)"
   ]
  },
  {
   "cell_type": "markdown",
   "metadata": {},
   "source": [
    "## Visualizing Sales by Country"
   ]
  },
  {
   "cell_type": "code",
   "execution_count": 8,
   "metadata": {},
   "outputs": [
    {
     "data": {
      "image/png": "[encoded data removed]",
      "text/plain": [
       "<matplotlib.figure.Figure at 0x1118faf98>"
      ]
     },
     "metadata": {},
     "output_type": "display_data"
    }
   ],
   "source": [
    "with sqlite3.connect('chinook.db') as conn:\n",
    "    df = pd.read_sql_query(q,conn)\n",
    "\n",
    "labels = df['country'][0:9]\n",
    "sizes = df['amount'][0:9]\n",
    "explode = (0.1, 0, 0, 0,0,0,0,0,0)\n",
    "colors = ['lightblue', 'red', 'yellow', 'lightskyblue', 'yellowgreen', 'green', 'purple', 'gold', 'lightcoral']\n",
    "fig, ax = plt.subplots()\n",
    "\n",
    "df.set_index(\"country\", inplace=True, drop=True)\n",
    "ax.pie(sizes, labels=labels, explode=explode, colors=colors, autopct='%1.0f%%')\n",
    "ax.set_title(\"Percent of Total Dollar Purchases per Country\")\n",
    "plt.show()"
   ]
  },
  {
   "cell_type": "code",
   "execution_count": 9,
   "metadata": {},
   "outputs": [
    {
     "data": {
      "image/png": "[encoded data removed]",
      "text/plain": [
       "<matplotlib.figure.Figure at 0x1118fab00>"
      ]
     },
     "metadata": {},
     "output_type": "display_data"
    }
   ],
   "source": [
    "with sqlite3.connect('chinook.db') as conn:\n",
    "    df = pd.read_sql_query(q,conn)\n",
    "\n",
    "labels = df['country'][0:9]\n",
    "sizes = df['customers'][0:9]\n",
    "explode = (0.1, 0, 0, 0,0,0,0,0,0)\n",
    "colors = ['lightblue', 'red', 'yellow', 'lightskyblue', 'yellowgreen', 'green', 'purple', 'gold', 'lightcoral']\n",
    "fig, ax = plt.subplots()\n",
    "\n",
    "df.set_index(\"country\", inplace=True, drop=True)\n",
    "ax.pie(sizes, labels=labels, explode=explode, colors=colors, autopct='%1.0f%%')\n",
    "ax.set_title(\"Customers per Country\")\n",
    "plt.show()"
   ]
  },
  {
   "cell_type": "code",
   "execution_count": 12,
   "metadata": {},
   "outputs": [
    {
     "data": {
      "text/plain": [
       "<matplotlib.axes._subplots.AxesSubplot at 0x111b64160>"
      ]
     },
     "execution_count": 12,
     "metadata": {},
     "output_type": "execute_result"
    },
    {
     "data": {
      "image/png": "[encoded data removed]",
      "text/plain": [
       "<matplotlib.figure.Figure at 0x111b6d6a0>"
      ]
     },
     "metadata": {},
     "output_type": "display_data"
    }
   ],
   "source": [
    "with sqlite3.connect('chinook.db') as conn:\n",
    "    df = pd.read_sql_query(q,conn)\n",
    "\n",
    "color = ['lightblue', 'red', 'yellow', 'lightskyblue', 'yellowgreen', 'green', 'purple', 'gold', 'lightcoral']\n",
    "df.set_index(\"country\", inplace=True, drop=True)\n",
    "df['average_price_per_purchase'][0:9].plot.bar(\n",
    "    title=\"Average Price per Purchase per Country\", color=color)\n"
   ]
  },
  {
   "cell_type": "code",
   "execution_count": 13,
   "metadata": {},
   "outputs": [
    {
     "data": {
      "text/plain": [
       "<matplotlib.axes._subplots.AxesSubplot at 0x111803be0>"
      ]
     },
     "execution_count": 13,
     "metadata": {},
     "output_type": "execute_result"
    },
    {
     "data": {
      "image/png": "[encoded data removed]",
      "text/plain": [
       "<matplotlib.figure.Figure at 0x1119c9978>"
      ]
     },
     "metadata": {},
     "output_type": "display_data"
    }
   ],
   "source": [
    "with sqlite3.connect('chinook.db') as conn:\n",
    "    df = pd.read_sql_query(q,conn)\n",
    "\n",
    "color = ['lightblue', 'red', 'yellow', 'lightskyblue', 'yellowgreen', 'green', 'purple', 'gold', 'lightcoral']\n",
    "df.set_index(\"country\", inplace=True, drop=True)\n",
    "df['number_of_purchases'][0:9].plot.bar(\n",
    "    title=\"Number of Purchases per Country\", color=color)\n"
   ]
  },
  {
   "cell_type": "code",
   "execution_count": null,
   "metadata": {
    "collapsed": true
   },
   "outputs": [],
   "source": []
  }
 ],
 "metadata": {
  "kernelspec": {
   "display_name": "Python 3",
   "language": "python",
   "name": "python3"
  },
  "language_info": {
   "codemirror_mode": {
    "name": "ipython",
    "version": 3
   },
   "file_extension": ".py",
   "mimetype": "text/x-python",
   "name": "python",
   "nbconvert_exporter": "python",
   "pygments_lexer": "ipython3",
   "version": "3.6.3"
  }
 },
 "nbformat": 4,
 "nbformat_minor": 2
}
