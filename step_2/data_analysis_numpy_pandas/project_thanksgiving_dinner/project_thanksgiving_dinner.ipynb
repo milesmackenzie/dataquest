{
 "cells": [
  {
   "cell_type": "code",
   "execution_count": 39,
   "metadata": {},
   "outputs": [],
   "source": [
    "import pandas as pd\n",
    "data = pd.read_csv('thanksgiving.csv', encoding=\"Latin-1\")\n"
   ]
  },
  {
   "cell_type": "code",
   "execution_count": 41,
   "metadata": {},
   "outputs": [
    {
     "name": "stdout",
     "output_type": "stream",
     "text": [
      "Yes    980\n",
      "Name: Do you celebrate Thanksgiving?, dtype: int64\n",
      "Yes    980\n",
      "Name: Do you celebrate Thanksgiving?, dtype: int64\n"
     ]
    }
   ],
   "source": [
    "print (data['Do you celebrate Thanksgiving?'].value_counts())\n",
    "data = data[data['Do you celebrate Thanksgiving?'] != \"No\"]\n",
    "print (data['Do you celebrate Thanksgiving?'].value_counts())\n"
   ]
  },
  {
   "cell_type": "code",
   "execution_count": 63,
   "metadata": {},
   "outputs": [
    {
     "name": "stdout",
     "output_type": "stream",
     "text": [
      "4      Yes\n",
      "33     Yes\n",
      "69      No\n",
      "72      No\n",
      "77     Yes\n",
      "145    Yes\n",
      "175    Yes\n",
      "218     No\n",
      "243    Yes\n",
      "275     No\n",
      "393    Yes\n",
      "399    Yes\n",
      "571    Yes\n",
      "594    Yes\n",
      "628     No\n",
      "774     No\n",
      "820     No\n",
      "837    Yes\n",
      "860     No\n",
      "953    Yes\n",
      "Name: Do you typically have gravy?, dtype: object\n"
     ]
    }
   ],
   "source": [
    "data_tofurkey = data['What is typically the main dish at your Thanksgiving dinner?'] == 'Tofurkey'\n",
    "data_gravy = data[data_tofurkey]\n",
    "print (data_gravy['Do you typically have gravy?'])\n"
   ]
  },
  {
   "cell_type": "code",
   "execution_count": 9,
   "metadata": {},
   "outputs": [
    {
     "name": "stdout",
     "output_type": "stream",
     "text": [
      "False    876\n",
      "True     182\n",
      "dtype: int64\n"
     ]
    }
   ],
   "source": [
    "import pandas as pd\n",
    "data = pd.read_csv('thanksgiving.csv', encoding=\"Latin-1\")\n",
    "\n",
    "apple_isnull = data['Which type of pie is typically served at your Thanksgiving dinner? Please select all that apply. - Apple'].isnull()\n",
    "pumpkin_isnull = data['Which type of pie is typically served at your Thanksgiving dinner? Please select all that apply. - Pumpkin'].isnull()\n",
    "pecan_isnull = data['Which type of pie is typically served at your Thanksgiving dinner? Please select all that apply. - Pecan'].isnull()\n",
    "\n",
    "ate_pies = (apple_isnull)&(pumpkin_isnull)&(pecan_isnull)\n",
    "print (ate_pies.value_counts())"
   ]
  },
  {
   "cell_type": "code",
   "execution_count": 2,
   "metadata": {},
   "outputs": [
    {
     "name": "stdout",
     "output_type": "stream",
     "text": [
      "count    1025.000000\n",
      "mean       39.383415\n",
      "std        15.398493\n",
      "min        18.000000\n",
      "25%        30.000000\n",
      "50%        45.000000\n",
      "75%        60.000000\n",
      "max        60.000000\n",
      "Name: int_age, dtype: float64\n"
     ]
    }
   ],
   "source": [
    "import pandas as pd\n",
    "data = pd.read_csv('thanksgiving.csv', encoding=\"Latin-1\")\n",
    "\n",
    "def age_convert(string):\n",
    "    if pd.isnull(string):\n",
    "        return None\n",
    "    string = string.split(\" \")\n",
    "    string = string[0]\n",
    "    string = string.replace('60+', '60')\n",
    "    return int(string)        \n",
    "        \n",
    "\n",
    "data['int_age'] = data['Age'].apply(age_convert)\n",
    "print (data['int_age'].describe())\n",
    "        "
   ]
  },
  {
   "cell_type": "markdown",
   "metadata": {
    "collapsed": true
   },
   "source": [
    "We should be aware that the ages we determined were by the lowest number in the age ranges. "
   ]
  },
  {
   "cell_type": "code",
   "execution_count": 3,
   "metadata": {},
   "outputs": [
    {
     "name": "stdout",
     "output_type": "stream",
     "text": [
      "count       889.000000\n",
      "mean      74077.615298\n",
      "std       59360.742902\n",
      "min           0.000000\n",
      "25%       25000.000000\n",
      "50%       50000.000000\n",
      "75%      100000.000000\n",
      "max      200000.000000\n",
      "Name: int_income, dtype: float64\n"
     ]
    }
   ],
   "source": [
    "def salary(string):\n",
    "    if pd.isnull(string):\n",
    "        return None\n",
    "    string = string.split(\" \")[0]\n",
    "    if string == 'Prefer':\n",
    "        return None\n",
    "    string = string.replace(\"$\", \"\")\n",
    "    string = string.replace(\",\", \"\")\n",
    "    return int(string)\n",
    "\n",
    "data['int_income'] = data['How much total combined money did all members of your HOUSEHOLD earn last year?'].apply(salary)\n",
    "\n",
    "print (data['int_income'].describe())"
   ]
  },
  {
   "cell_type": "markdown",
   "metadata": {},
   "source": [
    "Again taking the lower number of the income range skews the data. Income mean is approximately 74,000 with a high standard deviation of approximately 59,000."
   ]
  },
  {
   "cell_type": "code",
   "execution_count": 21,
   "metadata": {},
   "outputs": [
    {
     "name": "stdout",
     "output_type": "stream",
     "text": [
      "Thanksgiving is happening at my home--I won't travel at all                         281\n",
      "Thanksgiving is local--it will take place in the town I live in                     203\n",
      "Thanksgiving is out of town but not too far--it's a drive of a few hours or less    150\n",
      "Thanksgiving is out of town and far away--I have to drive several hours or fly       55\n",
      "Name: How far will you travel for Thanksgiving?, dtype: int64\n"
     ]
    }
   ],
   "source": [
    "under = data['int_income'] < 150000\n",
    "print (data[under]['How far will you travel for Thanksgiving?'].value_counts())"
   ]
  },
  {
   "cell_type": "code",
   "execution_count": 22,
   "metadata": {},
   "outputs": [
    {
     "name": "stdout",
     "output_type": "stream",
     "text": [
      "Thanksgiving is happening at my home--I won't travel at all                         49\n",
      "Thanksgiving is local--it will take place in the town I live in                     25\n",
      "Thanksgiving is out of town but not too far--it's a drive of a few hours or less    16\n",
      "Thanksgiving is out of town and far away--I have to drive several hours or fly      12\n",
      "Name: How far will you travel for Thanksgiving?, dtype: int64\n"
     ]
    }
   ],
   "source": [
    "over = data['int_income'] > 150000\n",
    "print (data[over]['How far will you travel for Thanksgiving?'].value_counts())"
   ]
  },
  {
   "cell_type": "code",
   "execution_count": 23,
   "metadata": {},
   "outputs": [
    {
     "name": "stdout",
     "output_type": "stream",
     "text": [
      "Have you ever attended a \"Friendsgiving?\"                  No        Yes\n",
      "Have you ever tried to meet up with hometown fr...                      \n",
      "No                                                  42.283702  37.010526\n",
      "Yes                                                 41.475410  33.976744\n"
     ]
    }
   ],
   "source": [
    "friends = data.pivot_table(index=\"Have you ever tried to meet up with hometown friends on Thanksgiving night?\", columns='Have you ever attended a \"Friendsgiving?\"', values=\"int_age\")\n",
    "print (friends)"
   ]
  },
  {
   "cell_type": "code",
   "execution_count": 24,
   "metadata": {},
   "outputs": [
    {
     "name": "stdout",
     "output_type": "stream",
     "text": [
      "Have you ever attended a \"Friendsgiving?\"                     No           Yes\n",
      "Have you ever tried to meet up with hometown fr...                            \n",
      "No                                                  78914.549654  72894.736842\n",
      "Yes                                                 78750.000000  66019.736842\n"
     ]
    }
   ],
   "source": [
    "avg_incomes = data.pivot_table(index=\"Have you ever tried to meet up with hometown friends on Thanksgiving night?\", columns='Have you ever attended a \"Friendsgiving?\"', values='int_income')\n",
    "print (avg_incomes)"
   ]
  },
  {
   "cell_type": "markdown",
   "metadata": {
    "collapsed": true
   },
   "source": [
    "More things to look at:\n",
    "\n",
    "Figure out the most common dessert people eat.\n",
    "Identify how many people work on Thanksgiving."
   ]
  },
  {
   "cell_type": "code",
   "execution_count": 40,
   "metadata": {},
   "outputs": [],
   "source": [
    "cobbler = data['Which of these desserts do you typically have at Thanksgiving dinner? Please select all that apply.   - Apple cobbler'].isnull()\n",
    "blondies = data['Which of these desserts do you typically have at Thanksgiving dinner? Please select all that apply.   - Blondies'].isnull()\n",
    "brownies = data['Which of these desserts do you typically have at Thanksgiving dinner? Please select all that apply.   - Brownies'].isnull()\n",
    "carrot_cake = data['Which of these desserts do you typically have at Thanksgiving dinner? Please select all that apply.   - Carrot cake'].isnull()        \n",
    "cheescake = data['Which of these desserts do you typically have at Thanksgiving dinner? Please select all that apply.   - Cheesecake'].isnull()\n",
    "cookies = data['Which of these desserts do you typically have at Thanksgiving dinner? Please select all that apply.   - Cookies'].isnull()\n",
    "fudge = data['Which of these desserts do you typically have at Thanksgiving dinner? Please select all that apply.   - Fudge'].isnull()\n",
    "ice_cream = data['Which of these desserts do you typically have at Thanksgiving dinner? Please select all that apply.   - Ice cream'].isnull()\n",
    "peach_cobbler = data['Which of these desserts do you typically have at Thanksgiving dinner? Please select all that apply.   - Peach cobbler'].isnull()\n",
    "none = data['Which of these desserts do you typically have at Thanksgiving dinner? Please select all that apply.   - None'].isnull()\n",
    "other = data['Which of these desserts do you typically have at Thanksgiving dinner? Please select all that apply.   - Other (please specify)'].isnull()\n",
    "\n",
    "# print (other.value_counts())\n",
    "# print (none.value_counts())\n",
    "# print (cobbler.value_counts())\n",
    "# print (blondies.value_counts())\n",
    "# print (brownies.value_counts())\n",
    "# print (carrot_cake.value_counts())\n",
    "# print (cheescake.value_counts())\n",
    "# print (cookies.value_counts())\n",
    "# print (fudge.value_counts())\n",
    "# print (ice_cream.value_counts())\n",
    "# print (peach_cobbler.value_counts())"
   ]
  },
  {
   "cell_type": "markdown",
   "metadata": {},
   "source": [
    "Most common dessert is ice cream, exluding pies."
   ]
  },
  {
   "cell_type": "code",
   "execution_count": null,
   "metadata": {},
   "outputs": [],
   "source": []
  },
  {
   "cell_type": "code",
   "execution_count": 54,
   "metadata": {},
   "outputs": [
    {
     "name": "stdout",
     "output_type": "stream",
     "text": [
      "True     988\n",
      "False     70\n",
      "Name: Will you employer make you work on Black Friday?, dtype: int64\n",
      "False    1015\n",
      "True       43\n",
      "Name: Will you employer make you work on Black Friday?, dtype: int64\n"
     ]
    }
   ],
   "source": [
    "is_null = data['Will you employer make you work on Black Friday?'].isnull()\n",
    "print (is_null.value_counts())\n",
    "\n",
    "works = data['Will you employer make you work on Black Friday?'] == \"Yes\"\n",
    "print (works.value_counts())\n"
   ]
  },
  {
   "cell_type": "markdown",
   "metadata": {},
   "source": [
    "Will work Black Friday = 43,\n",
    "Will not work Black Friday = 27"
   ]
  },
  {
   "cell_type": "code",
   "execution_count": null,
   "metadata": {
    "collapsed": true
   },
   "outputs": [],
   "source": []
  }
 ],
 "metadata": {
  "kernelspec": {
   "display_name": "Python 3",
   "language": "python",
   "name": "python3"
  }
 },
 "nbformat": 4,
 "nbformat_minor": 1
}
