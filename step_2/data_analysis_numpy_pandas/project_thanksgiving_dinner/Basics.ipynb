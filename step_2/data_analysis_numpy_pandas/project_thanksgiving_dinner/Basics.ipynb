{
 "cells": [
  {
   "cell_type": "code",
   "execution_count": 39,
   "metadata": {
    "collapsed": false
   },
   "outputs": [],
   "source": [
    "import pandas as pd\n",
    "data = pd.read_csv('thanksgiving.csv', encoding=\"Latin-1\")\n"
   ]
  },
  {
   "cell_type": "code",
   "execution_count": 41,
   "metadata": {
    "collapsed": false
   },
   "outputs": [
    {
     "name": "stdout",
     "output_type": "stream",
     "text": [
      "Yes    980\n",
      "Name: Do you celebrate Thanksgiving?, dtype: int64\n",
      "Yes    980\n",
      "Name: Do you celebrate Thanksgiving?, dtype: int64\n"
     ]
    }
   ],
   "source": [
    "print (data['Do you celebrate Thanksgiving?'].value_counts())\n",
    "data = data[data['Do you celebrate Thanksgiving?'] != \"No\"]\n",
    "print (data['Do you celebrate Thanksgiving?'].value_counts())\n"
   ]
  },
  {
   "cell_type": "code",
   "execution_count": 63,
   "metadata": {
    "collapsed": false
   },
   "outputs": [
    {
     "name": "stdout",
     "output_type": "stream",
     "text": [
      "4      Yes\n",
      "33     Yes\n",
      "69      No\n",
      "72      No\n",
      "77     Yes\n",
      "145    Yes\n",
      "175    Yes\n",
      "218     No\n",
      "243    Yes\n",
      "275     No\n",
      "393    Yes\n",
      "399    Yes\n",
      "571    Yes\n",
      "594    Yes\n",
      "628     No\n",
      "774     No\n",
      "820     No\n",
      "837    Yes\n",
      "860     No\n",
      "953    Yes\n",
      "Name: Do you typically have gravy?, dtype: object\n"
     ]
    }
   ],
   "source": [
    "data_tofurkey = data['What is typically the main dish at your Thanksgiving dinner?'] == 'Tofurkey'\n",
    "data_gravy = data[data_tofurkey]\n",
    "print (data_gravy['Do you typically have gravy?'])\n"
   ]
  },
  {
   "cell_type": "code",
   "execution_count": 9,
   "metadata": {
    "collapsed": false
   },
   "outputs": [
    {
     "name": "stdout",
     "output_type": "stream",
     "text": [
      "False    876\n",
      "True     182\n",
      "dtype: int64\n"
     ]
    }
   ],
   "source": [
    "import pandas as pd\n",
    "data = pd.read_csv('thanksgiving.csv', encoding=\"Latin-1\")\n",
    "\n",
    "apple_isnull = data['Which type of pie is typically served at your Thanksgiving dinner? Please select all that apply. - Apple'].isnull()\n",
    "pumpkin_isnull = data['Which type of pie is typically served at your Thanksgiving dinner? Please select all that apply. - Pumpkin'].isnull()\n",
    "pecan_isnull = data['Which type of pie is typically served at your Thanksgiving dinner? Please select all that apply. - Pecan'].isnull()\n",
    "\n",
    "ate_pies = (apple_isnull)&(pumpkin_isnull)&(pecan_isnull)\n",
    "print (ate_pies.value_counts())"
   ]
  },
  {
   "cell_type": "code",
   "execution_count": 15,
   "metadata": {
    "collapsed": false
   },
   "outputs": [
    {
     "name": "stdout",
     "output_type": "stream",
     "text": [
      "0       18.0\n",
      "1       18.0\n",
      "2       18.0\n",
      "3       30.0\n",
      "4       30.0\n",
      "5       18.0\n",
      "6       18.0\n",
      "7       18.0\n",
      "8       30.0\n",
      "9       30.0\n",
      "10      30.0\n",
      "11      30.0\n",
      "12      18.0\n",
      "13      18.0\n",
      "14      60.0\n",
      "15      30.0\n",
      "16      30.0\n",
      "17      18.0\n",
      "18      30.0\n",
      "19      30.0\n",
      "20      30.0\n",
      "21      18.0\n",
      "22      18.0\n",
      "23      18.0\n",
      "24      30.0\n",
      "25      18.0\n",
      "26      30.0\n",
      "27      18.0\n",
      "28      30.0\n",
      "29      30.0\n",
      "        ... \n",
      "1028    60.0\n",
      "1029    60.0\n",
      "1030    45.0\n",
      "1031    45.0\n",
      "1032    18.0\n",
      "1033    30.0\n",
      "1034    30.0\n",
      "1035    30.0\n",
      "1036    30.0\n",
      "1037    30.0\n",
      "1038    60.0\n",
      "1039    18.0\n",
      "1040    30.0\n",
      "1041    45.0\n",
      "1042    45.0\n",
      "1043    45.0\n",
      "1044    60.0\n",
      "1045    30.0\n",
      "1046    18.0\n",
      "1047    30.0\n",
      "1048    60.0\n",
      "1049     NaN\n",
      "1050    60.0\n",
      "1051    60.0\n",
      "1052    18.0\n",
      "1053    30.0\n",
      "1054    60.0\n",
      "1055    60.0\n",
      "1056     NaN\n",
      "1057     NaN\n",
      "Name: int_age, dtype: float64\n",
      "count    1025.000000\n",
      "mean       39.383415\n",
      "std        15.398493\n",
      "min        18.000000\n",
      "25%        30.000000\n",
      "50%        45.000000\n",
      "75%        60.000000\n",
      "max        60.000000\n",
      "Name: int_age, dtype: float64\n"
     ]
    }
   ],
   "source": [
    "import pandas as pd\n",
    "data = pd.read_csv('thanksgiving.csv', encoding=\"Latin-1\")\n",
    "\n",
    "def age_convert(string):\n",
    "    if pd.isnull(string):\n",
    "        return None\n",
    "    string = string.split(\" \")\n",
    "    string = string[0]\n",
    "    string = string.replace('60+', '60')\n",
    "    return int(string)        \n",
    "        \n",
    "\n",
    "data['int_age'] = data['Age'].apply(age_convert)\n",
    "print(data['int_age'])\n",
    "print (data['int_age'].describe())\n",
    "        "
   ]
  },
  {
   "cell_type": "markdown",
   "metadata": {
    "collapsed": true
   },
   "source": [
    "We should be aware that the ages we determined were by the lowest number in the age ranges. "
   ]
  },
  {
   "cell_type": "code",
   "execution_count": 17,
   "metadata": {
    "collapsed": false
   },
   "outputs": [
    {
     "name": "stdout",
     "output_type": "stream",
     "text": [
      "0        75000.0\n",
      "1        50000.0\n",
      "2            0.0\n",
      "3       200000.0\n",
      "4       100000.0\n",
      "5            0.0\n",
      "6        25000.0\n",
      "7            NaN\n",
      "8        75000.0\n",
      "9        25000.0\n",
      "10       25000.0\n",
      "11       25000.0\n",
      "12           0.0\n",
      "13           0.0\n",
      "14       50000.0\n",
      "15      200000.0\n",
      "16      200000.0\n",
      "17       75000.0\n",
      "18       25000.0\n",
      "19       75000.0\n",
      "20       75000.0\n",
      "21           0.0\n",
      "22           0.0\n",
      "23           0.0\n",
      "24       50000.0\n",
      "25      200000.0\n",
      "26       50000.0\n",
      "27      100000.0\n",
      "28           NaN\n",
      "29       75000.0\n",
      "          ...   \n",
      "1028         NaN\n",
      "1029     50000.0\n",
      "1030     10000.0\n",
      "1031     75000.0\n",
      "1032         NaN\n",
      "1033     75000.0\n",
      "1034         NaN\n",
      "1035     25000.0\n",
      "1036     50000.0\n",
      "1037     10000.0\n",
      "1038    100000.0\n",
      "1039     75000.0\n",
      "1040     50000.0\n",
      "1041     25000.0\n",
      "1042    125000.0\n",
      "1043     75000.0\n",
      "1044     25000.0\n",
      "1045     75000.0\n",
      "1046     10000.0\n",
      "1047     25000.0\n",
      "1048     75000.0\n",
      "1049         NaN\n",
      "1050    125000.0\n",
      "1051    125000.0\n",
      "1052         0.0\n",
      "1053    100000.0\n",
      "1054     50000.0\n",
      "1055    100000.0\n",
      "1056         NaN\n",
      "1057         NaN\n",
      "Name: int_income, dtype: float64\n",
      "count       889.000000\n",
      "mean      74077.615298\n",
      "std       59360.742902\n",
      "min           0.000000\n",
      "25%       25000.000000\n",
      "50%       50000.000000\n",
      "75%      100000.000000\n",
      "max      200000.000000\n",
      "Name: int_income, dtype: float64\n"
     ]
    }
   ],
   "source": [
    "def salary(string):\n",
    "    if pd.isnull(string):\n",
    "        return None\n",
    "    string = string.split(\" \")[0]\n",
    "    if string == 'Prefer':\n",
    "        return None\n",
    "    string = string.replace(\"$\", \"\")\n",
    "    string = string.replace(\",\", \"\")\n",
    "    return int(string)\n",
    "\n",
    "data['int_income'] = data['How much total combined money did all members of your HOUSEHOLD earn last year?'].apply(salary)\n",
    "print (data['int_income'])\n",
    "print (data['int_income'].describe())"
   ]
  },
  {
   "cell_type": "markdown",
   "metadata": {},
   "source": [
    "Again taking the lower number of the income range skews the data. Income mean is approximately 74,000 with a high standard deviation of approximately 59,000."
   ]
  },
  {
   "cell_type": "code",
   "execution_count": 21,
   "metadata": {
    "collapsed": false
   },
   "outputs": [
    {
     "name": "stdout",
     "output_type": "stream",
     "text": [
      "Thanksgiving is happening at my home--I won't travel at all                         281\n",
      "Thanksgiving is local--it will take place in the town I live in                     203\n",
      "Thanksgiving is out of town but not too far--it's a drive of a few hours or less    150\n",
      "Thanksgiving is out of town and far away--I have to drive several hours or fly       55\n",
      "Name: How far will you travel for Thanksgiving?, dtype: int64\n"
     ]
    }
   ],
   "source": [
    "under = data['int_income'] < 150000\n",
    "print (data[under]['How far will you travel for Thanksgiving?'].value_counts())"
   ]
  },
  {
   "cell_type": "code",
   "execution_count": 22,
   "metadata": {
    "collapsed": false
   },
   "outputs": [
    {
     "name": "stdout",
     "output_type": "stream",
     "text": [
      "Thanksgiving is happening at my home--I won't travel at all                         49\n",
      "Thanksgiving is local--it will take place in the town I live in                     25\n",
      "Thanksgiving is out of town but not too far--it's a drive of a few hours or less    16\n",
      "Thanksgiving is out of town and far away--I have to drive several hours or fly      12\n",
      "Name: How far will you travel for Thanksgiving?, dtype: int64\n"
     ]
    }
   ],
   "source": [
    "over = data['int_income'] > 150000\n",
    "print (data[over]['How far will you travel for Thanksgiving?'].value_counts())"
   ]
  },
  {
   "cell_type": "code",
   "execution_count": 23,
   "metadata": {
    "collapsed": false
   },
   "outputs": [
    {
     "name": "stdout",
     "output_type": "stream",
     "text": [
      "Have you ever attended a \"Friendsgiving?\"                  No        Yes\n",
      "Have you ever tried to meet up with hometown fr...                      \n",
      "No                                                  42.283702  37.010526\n",
      "Yes                                                 41.475410  33.976744\n"
     ]
    }
   ],
   "source": [
    "friends = data.pivot_table(index=\"Have you ever tried to meet up with hometown friends on Thanksgiving night?\", columns='Have you ever attended a \"Friendsgiving?\"', values=\"int_age\")\n",
    "print (friends)"
   ]
  },
  {
   "cell_type": "code",
   "execution_count": 24,
   "metadata": {
    "collapsed": false
   },
   "outputs": [
    {
     "name": "stdout",
     "output_type": "stream",
     "text": [
      "Have you ever attended a \"Friendsgiving?\"                     No           Yes\n",
      "Have you ever tried to meet up with hometown fr...                            \n",
      "No                                                  78914.549654  72894.736842\n",
      "Yes                                                 78750.000000  66019.736842\n"
     ]
    }
   ],
   "source": [
    "avg_incomes = data.pivot_table(index=\"Have you ever tried to meet up with hometown friends on Thanksgiving night?\", columns='Have you ever attended a \"Friendsgiving?\"', values='int_income')\n",
    "print (avg_incomes)"
   ]
  },
  {
   "cell_type": "code",
   "execution_count": null,
   "metadata": {
    "collapsed": true
   },
   "outputs": [],
   "source": []
  }
 ],
 "metadata": {
  "kernelspec": {
   "display_name": "Python 3",
   "language": "python",
   "name": "python3"
  },
  "language_info": {
   "codemirror_mode": {
    "name": "ipython",
    "version": 3
   },
   "file_extension": ".py",
   "mimetype": "text/x-python",
   "name": "python",
   "nbconvert_exporter": "python",
   "pygments_lexer": "ipython3",
   "version": "3.4.3"
  }
 },
 "nbformat": 4,
 "nbformat_minor": 0
}
