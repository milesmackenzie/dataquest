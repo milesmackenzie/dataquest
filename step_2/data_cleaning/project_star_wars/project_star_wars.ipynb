{
 "cells": [
  {
   "cell_type": "code",
   "execution_count": 167,
   "metadata": {},
   "outputs": [
    {
     "name": "stdout",
     "output_type": "stream",
     "text": [
      "   RespondentID  Have you seen any of the 6 films in the Star Wars franchise?  \\\n",
      "1  3.292880e+09                                               True              \n",
      "2  3.292880e+09                                              False              \n",
      "3  3.292765e+09                                               True              \n",
      "4  3.292763e+09                                               True              \n",
      "5  3.292731e+09                                               True              \n",
      "\n",
      "  Do you consider yourself to be a fan of the Star Wars film franchise?  \\\n",
      "1                                               True                      \n",
      "2                                                NaN                      \n",
      "3                                              False                      \n",
      "4                                               True                      \n",
      "5                                               True                      \n",
      "\n",
      "  Which of the following Star Wars films have you seen? Please select all that apply.  \\\n",
      "1           Star Wars: Episode I  The Phantom Menace                                    \n",
      "2                                                NaN                                    \n",
      "3           Star Wars: Episode I  The Phantom Menace                                    \n",
      "4           Star Wars: Episode I  The Phantom Menace                                    \n",
      "5           Star Wars: Episode I  The Phantom Menace                                    \n",
      "\n",
      "                                    Unnamed: 4  \\\n",
      "1  Star Wars: Episode II  Attack of the Clones   \n",
      "2                                          NaN   \n",
      "3  Star Wars: Episode II  Attack of the Clones   \n",
      "4  Star Wars: Episode II  Attack of the Clones   \n",
      "5  Star Wars: Episode II  Attack of the Clones   \n",
      "\n",
      "                                    Unnamed: 5  \\\n",
      "1  Star Wars: Episode III  Revenge of the Sith   \n",
      "2                                          NaN   \n",
      "3  Star Wars: Episode III  Revenge of the Sith   \n",
      "4  Star Wars: Episode III  Revenge of the Sith   \n",
      "5  Star Wars: Episode III  Revenge of the Sith   \n",
      "\n",
      "                          Unnamed: 6  \\\n",
      "1  Star Wars: Episode IV  A New Hope   \n",
      "2                                NaN   \n",
      "3                                NaN   \n",
      "4  Star Wars: Episode IV  A New Hope   \n",
      "5  Star Wars: Episode IV  A New Hope   \n",
      "\n",
      "                                     Unnamed: 7  \\\n",
      "1  Star Wars: Episode V The Empire Strikes Back   \n",
      "2                                           NaN   \n",
      "3                                           NaN   \n",
      "4  Star Wars: Episode V The Empire Strikes Back   \n",
      "5  Star Wars: Episode V The Empire Strikes Back   \n",
      "\n",
      "                                 Unnamed: 8  \\\n",
      "1  Star Wars: Episode VI Return of the Jedi   \n",
      "2                                       NaN   \n",
      "3                                       NaN   \n",
      "4  Star Wars: Episode VI Return of the Jedi   \n",
      "5  Star Wars: Episode VI Return of the Jedi   \n",
      "\n",
      "  Please rank the Star Wars films in order of preference with 1 being your favorite film in the franchise and 6 being your least favorite film.  \\\n",
      "1                                                  3                                                                                              \n",
      "2                                                NaN                                                                                              \n",
      "3                                                  1                                                                                              \n",
      "4                                                  5                                                                                              \n",
      "5                                                  5                                                                                              \n",
      "\n",
      "            ...                    Unnamed: 28  \\\n",
      "1           ...                 Very favorably   \n",
      "2           ...                            NaN   \n",
      "3           ...               Unfamiliar (N/A)   \n",
      "4           ...                 Very favorably   \n",
      "5           ...             Somewhat favorably   \n",
      "\n",
      "        Which character shot first?  \\\n",
      "1  I don't understand this question   \n",
      "2                               NaN   \n",
      "3  I don't understand this question   \n",
      "4  I don't understand this question   \n",
      "5                            Greedo   \n",
      "\n",
      "  Are you familiar with the Expanded Universe?  \\\n",
      "1                                          Yes   \n",
      "2                                          NaN   \n",
      "3                                           No   \n",
      "4                                           No   \n",
      "5                                          Yes   \n",
      "\n",
      "  Do you consider yourself to be a fan of the Expanded Universe?æ  \\\n",
      "1                                                 No                 \n",
      "2                                                NaN                 \n",
      "3                                                NaN                 \n",
      "4                                                NaN                 \n",
      "5                                                 No                 \n",
      "\n",
      "  Do you consider yourself to be a fan of the Star Trek franchise? Gender  \\\n",
      "1                                                 No                 Male   \n",
      "2                                                Yes                 Male   \n",
      "3                                                 No                 Male   \n",
      "4                                                Yes                 Male   \n",
      "5                                                 No                 Male   \n",
      "\n",
      "     Age     Household Income                         Education  \\\n",
      "1  18-29                  NaN                High school degree   \n",
      "2  18-29         $0 - $24,999                   Bachelor degree   \n",
      "3  18-29         $0 - $24,999                High school degree   \n",
      "4  18-29  $100,000 - $149,999  Some college or Associate degree   \n",
      "5  18-29  $100,000 - $149,999  Some college or Associate degree   \n",
      "\n",
      "  Location (Census Region)  \n",
      "1           South Atlantic  \n",
      "2       West South Central  \n",
      "3       West North Central  \n",
      "4       West North Central  \n",
      "5       West North Central  \n",
      "\n",
      "[5 rows x 38 columns]\n"
     ]
    }
   ],
   "source": [
    "# Reading in StarWars.cvs and including only rows where 'RespondentID' (number for survey ID of each survey respondent) \n",
    "# is not null.\n",
    "\n",
    "import pandas as pd\n",
    "star_wars = pd.read_csv(\"StarWars.csv\", encoding=\"ISO-8859-1\")\n",
    "star_wars = star_wars.dropna(subset=['RespondentID'])\n",
    "\n",
    "# Converting answers in colums 'Have you seen any of the 6 films in the Star Wars franchise?' and \n",
    "# 'Do you consider yourself to be a fan of the Star Wars film franchise?' to boolean values using \n",
    "#  pandas.Series.map().\n",
    "\n",
    "yes_no = {\"Yes\": True, \"No\":False}\n",
    "star_wars['Have you seen any of the 6 films in the Star Wars franchise?'] = star_wars['Have you seen any of the 6 films in the Star Wars franchise?'].map(yes_no)\n",
    "star_wars['Do you consider yourself to be a fan of the Star Wars film franchise?'] = star_wars['Do you consider yourself to be a fan of the Star Wars film franchise?'].map(yes_no)\n",
    "\n",
    "\n",
    "print (star_wars.head())\n"
   ]
  },
  {
   "cell_type": "code",
   "execution_count": 168,
   "metadata": {},
   "outputs": [
    {
     "name": "stdout",
     "output_type": "stream",
     "text": [
      "   RespondentID  Have you seen any of the 6 films in the Star Wars franchise?  \\\n",
      "1  3.292880e+09                                               True              \n",
      "2  3.292880e+09                                              False              \n",
      "3  3.292765e+09                                               True              \n",
      "4  3.292763e+09                                               True              \n",
      "5  3.292731e+09                                               True              \n",
      "\n",
      "  Do you consider yourself to be a fan of the Star Wars film franchise?  \\\n",
      "1                                               True                      \n",
      "2                                                NaN                      \n",
      "3                                              False                      \n",
      "4                                               True                      \n",
      "5                                               True                      \n",
      "\n",
      "   seen_1  seen_2  seen_3  seen_4  seen_5  seen_6  \\\n",
      "1    True    True    True    True    True    True   \n",
      "2   False   False   False   False   False   False   \n",
      "3    True    True    True   False   False   False   \n",
      "4    True    True    True    True    True    True   \n",
      "5    True    True    True    True    True    True   \n",
      "\n",
      "  Please rank the Star Wars films in order of preference with 1 being your favorite film in the franchise and 6 being your least favorite film.  \\\n",
      "1                                                  3                                                                                              \n",
      "2                                                NaN                                                                                              \n",
      "3                                                  1                                                                                              \n",
      "4                                                  5                                                                                              \n",
      "5                                                  5                                                                                              \n",
      "\n",
      "            ...                    Unnamed: 28  \\\n",
      "1           ...                 Very favorably   \n",
      "2           ...                            NaN   \n",
      "3           ...               Unfamiliar (N/A)   \n",
      "4           ...                 Very favorably   \n",
      "5           ...             Somewhat favorably   \n",
      "\n",
      "        Which character shot first?  \\\n",
      "1  I don't understand this question   \n",
      "2                               NaN   \n",
      "3  I don't understand this question   \n",
      "4  I don't understand this question   \n",
      "5                            Greedo   \n",
      "\n",
      "  Are you familiar with the Expanded Universe?  \\\n",
      "1                                          Yes   \n",
      "2                                          NaN   \n",
      "3                                           No   \n",
      "4                                           No   \n",
      "5                                          Yes   \n",
      "\n",
      "  Do you consider yourself to be a fan of the Expanded Universe?æ  \\\n",
      "1                                                 No                 \n",
      "2                                                NaN                 \n",
      "3                                                NaN                 \n",
      "4                                                NaN                 \n",
      "5                                                 No                 \n",
      "\n",
      "  Do you consider yourself to be a fan of the Star Trek franchise? Gender  \\\n",
      "1                                                 No                 Male   \n",
      "2                                                Yes                 Male   \n",
      "3                                                 No                 Male   \n",
      "4                                                Yes                 Male   \n",
      "5                                                 No                 Male   \n",
      "\n",
      "     Age     Household Income                         Education  \\\n",
      "1  18-29                  NaN                High school degree   \n",
      "2  18-29         $0 - $24,999                   Bachelor degree   \n",
      "3  18-29         $0 - $24,999                High school degree   \n",
      "4  18-29  $100,000 - $149,999  Some college or Associate degree   \n",
      "5  18-29  $100,000 - $149,999  Some college or Associate degree   \n",
      "\n",
      "  Location (Census Region)  \n",
      "1           South Atlantic  \n",
      "2       West South Central  \n",
      "3       West North Central  \n",
      "4       West North Central  \n",
      "5       West North Central  \n",
      "\n",
      "[5 rows x 38 columns]\n"
     ]
    }
   ],
   "source": [
    "# Using a mapping dictionary to change answer to 'Which of the following Star Wars films have \n",
    "# you seen? Please select all that apply.' to boolean values.\n",
    "# The name of the movie in the data set means they've seen the movie and we are assuming NaN\n",
    "# means they did not. \n",
    "\n",
    "import numpy as np\n",
    "\n",
    "movies = ['Star Wars: Episode I  The Phantom Menace', 'Star Wars: Episode II  Attack of the Clones', 'Star Wars: Episode III  Revenge of the Sith', 'Star Wars: Episode IV  A New Hope', 'Star Wars: Episode V The Empire Strikes Back', 'Star Wars: Episode VI Return of the Jedi']\n",
    "series = ['Which of the following Star Wars films have you seen? Please select all that apply.', 'Unnamed: 4', 'Unnamed: 5', 'Unnamed: 6', 'Unnamed: 7', 'Unnamed: 8']\n",
    "\n",
    "seen1 = {movies[0]:True, np.nan:False}\n",
    "seen2 = {movies[1]:True, np.nan:False}\n",
    "seen3 = {movies[2]:True, np.nan:False}\n",
    "seen4 = {movies[3]:True, np.nan:False}\n",
    "seen5 = {movies[4]:True, np.nan:False}\n",
    "seen6 = {movies[5]:True, np.nan:False}\n",
    "\n",
    "star_wars[series[0]] = star_wars[series[0]].map(seen1)\n",
    "star_wars[series[1]] = star_wars[series[1]].map(seen2)\n",
    "star_wars[series[2]] = star_wars[series[2]].map(seen3)\n",
    "star_wars[series[3]] = star_wars[series[3]].map(seen4)\n",
    "star_wars[series[4]] = star_wars[series[4]].map(seen5)\n",
    "star_wars[series[5]] = star_wars[series[5]].map(seen6)\n",
    "\n",
    "# Renaming items in series to 'seen_1', 'seen_2' ... to represent Episode 1, Episode 2 ... \n",
    "\n",
    "star_wars = star_wars.rename(columns={\n",
    "        series[0]: \"seen_1\",\n",
    "        series[1]: \"seen_2\",\n",
    "        series[2]: \"seen_3\",\n",
    "        series[3]: \"seen_4\",\n",
    "        series[4]: \"seen_5\",\n",
    "        series[5]: \"seen_6\"\n",
    "         })\n",
    "\n",
    "print (star_wars.head())"
   ]
  },
  {
   "cell_type": "code",
   "execution_count": 169,
   "metadata": {},
   "outputs": [
    {
     "name": "stdout",
     "output_type": "stream",
     "text": [
      "Index(['ranking_1', 'ranking_2', 'ranking_3', 'ranking_4', 'ranking_5',\n",
      "       'ranking_6'],\n",
      "      dtype='object')\n"
     ]
    }
   ],
   "source": [
    "# Converting each type in 'Please rank the Star Wars films in order of preference with 1 being your favorite \n",
    "# film in the franchise and 6 being your least favorite film.' to float.\n",
    "# Renaming the columns in column to 'ranking_1', 'ranking_2' ...\n",
    "\n",
    "star_wars[star_wars.columns[9:15]] = star_wars[star_wars.columns[9:15]].astype(float)\n",
    "column = ['Please rank the Star Wars films in order of preference with 1 being your favorite film in the franchise and 6 being your least favorite film.','Unnamed: 10', 'Unnamed: 11', 'Unnamed: 12', 'Unnamed: 13',\n",
    "       'Unnamed: 14']\n",
    "\n",
    "star_wars = star_wars.rename(columns={\n",
    "        column[0]: \"ranking_1\",\n",
    "        column[1]: \"ranking_2\",\n",
    "        column[2]: \"ranking_3\",\n",
    "        column[3]: \"ranking_4\",\n",
    "        column[4]: \"ranking_5\",\n",
    "        column[5]: \"ranking_6\"\n",
    "         })\n",
    "\n",
    "print (star_wars.columns[9:15])"
   ]
  },
  {
   "cell_type": "code",
   "execution_count": 170,
   "metadata": {},
   "outputs": [
    {
     "name": "stdout",
     "output_type": "stream",
     "text": [
      "ranking_1    3.732934\n",
      "ranking_2    4.087321\n",
      "ranking_3    4.341317\n",
      "ranking_4    3.272727\n",
      "ranking_5    2.513158\n",
      "ranking_6    3.047847\n",
      "dtype: float64\n"
     ]
    },
    {
     "data": {
      "image/png": "[encoded data removed]",
      "text/plain": [
       "<matplotlib.figure.Figure at 0x10d996c18>"
      ]
     },
     "metadata": {},
     "output_type": "display_data"
    }
   ],
   "source": [
    "# Finding the mean of each column in ranks to find the highest rated movie.\n",
    "# Generating a bar plot to show movies ('ranking_1' through 'ranking_6) vs. average score.\n",
    "\n",
    "import matplotlib.pyplot as plt\n",
    "from numpy import arange\n",
    "%matplotlib inline\n",
    "ranks = ['0', 'ranking_1', 'ranking_2', 'ranking_3', 'ranking_4', 'ranking_5', 'ranking_6']\n",
    "seen_film = ['0', 'seen_1', 'seen_2', 'seen_3', 'seen_4', 'seen_5', 'seen_6']\n",
    "\n",
    "means = star_wars[star_wars.columns[9:15]].mean()\n",
    "print (means)\n",
    "\n",
    "fig, ax = plt.subplots()\n",
    "ax.bar(range(6), means)\n",
    "ax.set_xticklabels(ranks, rotation=90)\n",
    "plt.show()\n"
   ]
  },
  {
   "cell_type": "code",
   "execution_count": 171,
   "metadata": {},
   "outputs": [
    {
     "name": "stdout",
     "output_type": "stream",
     "text": [
      "seen_1    673\n",
      "seen_2    571\n",
      "seen_3    550\n",
      "seen_4    607\n",
      "seen_5    758\n",
      "seen_6    738\n",
      "dtype: int64\n"
     ]
    },
    {
     "data": {
      "image/png": "[encoded data removed]",
      "text/plain": [
       "<matplotlib.figure.Figure at 0x1165dbd30>"
      ]
     },
     "metadata": {},
     "output_type": "display_data"
    }
   ],
   "source": [
    "# Finding the sums of people who have seen each movie and \n",
    "# generating a bar plot to show results. \n",
    "\n",
    "sums = star_wars[star_wars.columns[3:9]].sum()\n",
    "print (sums)\n",
    "\n",
    "    \n",
    "fig, ax = plt.subplots()\n",
    "ax.bar(range(6), sums)\n",
    "ax.set_xticklabels(seen_film, rotation=90)\n",
    "plt.show()\n"
   ]
  },
  {
   "cell_type": "code",
   "execution_count": 172,
   "metadata": {},
   "outputs": [
    {
     "name": "stdout",
     "output_type": "stream",
     "text": [
      "ranking_1    4.141304\n",
      "ranking_2    4.342391\n",
      "ranking_3    4.417423\n",
      "ranking_4    2.932971\n",
      "ranking_5    2.333333\n",
      "ranking_6    2.829710\n",
      "dtype: float64\n"
     ]
    },
    {
     "data": {
      "image/png": "[encoded data removed]",
      "text/plain": [
       "<matplotlib.figure.Figure at 0x10d996518>"
      ]
     },
     "metadata": {},
     "output_type": "display_data"
    },
    {
     "name": "stdout",
     "output_type": "stream",
     "text": [
      "seen_1    500\n",
      "seen_2    463\n",
      "seen_3    450\n",
      "seen_4    483\n",
      "seen_5    538\n",
      "seen_6    537\n",
      "dtype: int64\n"
     ]
    },
    {
     "data": {
      "image/png": "[encoded data removed]",
      "text/plain": [
       "<matplotlib.figure.Figure at 0x1165dbcf8>"
      ]
     },
     "metadata": {},
     "output_type": "display_data"
    }
   ],
   "source": [
    "# Dividing DataFrame on binary columns to attempt to see relationships between ratings and the binary columns.\n",
    "# Filtering out fans of \n",
    "\n",
    "fans = star_wars[star_wars['Do you consider yourself to be a fan of the Star Wars film franchise?'] == True]\n",
    "# fans_male = fans[fans['Gender'] == \"Male\"]\n",
    "\n",
    "means = fans[fans.columns[9:15]].mean()\n",
    "print (means)\n",
    "fig, ax = plt.subplots()\n",
    "ax.bar(range(6), means)\n",
    "ax.set_xticklabels(ranks, rotation=90)\n",
    "plt.show()\n",
    "\n",
    "sums = fans[fans.columns[3:9]].sum()\n",
    "print (sums)\n",
    "\n",
    "    \n",
    "fig, ax = plt.subplots()\n",
    "ax.bar(range(6), sums)\n",
    "ax.set_xticklabels(seen_film, rotation=90)\n",
    "plt.show()"
   ]
  },
  {
   "cell_type": "code",
   "execution_count": 173,
   "metadata": {},
   "outputs": [
    {
     "name": "stdout",
     "output_type": "stream",
     "text": [
      "ranking_1    2.936396\n",
      "ranking_2    3.591549\n",
      "ranking_3    4.193662\n",
      "ranking_4    3.933099\n",
      "ranking_5    2.862676\n",
      "ranking_6    3.471831\n",
      "dtype: float64\n"
     ]
    },
    {
     "data": {
      "image/png": "[encoded data removed]",
      "text/plain": [
       "<matplotlib.figure.Figure at 0x10e066b70>"
      ]
     },
     "metadata": {},
     "output_type": "display_data"
    },
    {
     "name": "stdout",
     "output_type": "stream",
     "text": [
      "seen_1    173\n",
      "seen_2    108\n",
      "seen_3    100\n",
      "seen_4    124\n",
      "seen_5    220\n",
      "seen_6    201\n",
      "dtype: int64\n"
     ]
    },
    {
     "data": {
      "image/png": "[encoded data removed]",
      "text/plain": [
       "<matplotlib.figure.Figure at 0x10d990518>"
      ]
     },
     "metadata": {},
     "output_type": "display_data"
    }
   ],
   "source": [
    "# Filtering the anwers who where not fans.\n",
    "\n",
    "not_fans = star_wars[star_wars['Do you consider yourself to be a fan of the Star Wars film franchise?'] == False]\n",
    "means = not_fans[not_fans.columns[9:15]].mean()\n",
    "print (means)\n",
    "\n",
    "fig, ax = plt.subplots()\n",
    "ax.bar(range(6), means)\n",
    "ax.set_xticklabels(ranks, rotation=90)\n",
    "plt.show()\n",
    "\n",
    "sums = not_fans[not_fans.columns[3:9]].sum()\n",
    "print (sums)\n",
    "\n",
    "    \n",
    "fig, ax = plt.subplots()\n",
    "ax.bar(range(6), sums)\n",
    "ax.set_xticklabels(seen_film, rotation=90)\n",
    "plt.show()"
   ]
  },
  {
   "cell_type": "code",
   "execution_count": 174,
   "metadata": {},
   "outputs": [
    {
     "name": "stdout",
     "output_type": "stream",
     "text": [
      "ranking_1    3.823529\n",
      "ranking_2    4.239496\n",
      "ranking_3    4.554622\n",
      "ranking_4    3.172269\n",
      "ranking_5    2.399160\n",
      "ranking_6    2.810924\n",
      "dtype: float64\n"
     ]
    },
    {
     "data": {
      "image/png": "[encoded data removed]",
      "text/plain": [
       "<matplotlib.figure.Figure at 0x10df8d860>"
      ]
     },
     "metadata": {},
     "output_type": "display_data"
    },
    {
     "name": "stdout",
     "output_type": "stream",
     "text": [
      "seen_1    208\n",
      "seen_2    185\n",
      "seen_3    175\n",
      "seen_4    197\n",
      "seen_5    231\n",
      "seen_6    229\n",
      "dtype: int64\n"
     ]
    },
    {
     "data": {
      "image/png": "[encoded data removed]",
      "text/plain": [
       "<matplotlib.figure.Figure at 0x10d1d8ac8>"
      ]
     },
     "metadata": {},
     "output_type": "display_data"
    }
   ],
   "source": [
    "# Filtering female and fans.\n",
    "\n",
    "female = star_wars[star_wars['Gender'] == \"Female\"]\n",
    "female_fans = female[female['Do you consider yourself to be a fan of the Star Wars film franchise?'] == True]\n",
    "means = female_fans[female_fans.columns[9:15]].mean()\n",
    "print (means)\n",
    "\n",
    "fig, ax = plt.subplots()\n",
    "ax.bar(range(6), means)\n",
    "ax.set_xticklabels(ranks, rotation=90)\n",
    "plt.show()\n",
    "\n",
    "sums = female_fans[female_fans.columns[3:9]].sum()\n",
    "print (sums)\n",
    "\n",
    "    \n",
    "fig, ax = plt.subplots()\n",
    "ax.bar(range(6), sums)\n",
    "ax.set_xticklabels(seen_film, rotation=90)\n",
    "plt.show()"
   ]
  },
  {
   "cell_type": "code",
   "execution_count": 175,
   "metadata": {},
   "outputs": [
    {
     "name": "stdout",
     "output_type": "stream",
     "text": [
      "ranking_1    4.402640\n",
      "ranking_2    4.429043\n",
      "ranking_3    4.311258\n",
      "ranking_4    2.729373\n",
      "ranking_5    2.287129\n",
      "ranking_6    2.834983\n",
      "dtype: float64\n"
     ]
    },
    {
     "data": {
      "image/png": "[encoded data removed]",
      "text/plain": [
       "<matplotlib.figure.Figure at 0x1165db470>"
      ]
     },
     "metadata": {},
     "output_type": "display_data"
    },
    {
     "name": "stdout",
     "output_type": "stream",
     "text": [
      "seen_1    282\n",
      "seen_2    268\n",
      "seen_3    265\n",
      "seen_4    278\n",
      "seen_5    297\n",
      "seen_6    298\n",
      "dtype: int64\n"
     ]
    },
    {
     "data": {
      "image/png": "[encoded data removed]",
      "text/plain": [
       "<matplotlib.figure.Figure at 0x10d644da0>"
      ]
     },
     "metadata": {},
     "output_type": "display_data"
    }
   ],
   "source": [
    "# Filtering male and fans. \n",
    "\n",
    "male = star_wars[star_wars['Gender'] == \"Male\"]\n",
    "male_fans = male[male['Do you consider yourself to be a fan of the Star Wars film franchise?'] == True]\n",
    "means = male_fans[male_fans.columns[9:15]].mean()\n",
    "print (means)\n",
    "\n",
    "fig, ax = plt.subplots()\n",
    "ax.bar(range(6), means)\n",
    "ax.set_xticklabels(ranks, rotation=90)\n",
    "plt.show()\n",
    "\n",
    "sums = male_fans[male_fans.columns[3:9]].sum()\n",
    "print (sums)\n",
    "\n",
    "    \n",
    "fig, ax = plt.subplots()\n",
    "ax.bar(range(6), sums)\n",
    "ax.set_xticklabels(seen_film, rotation=90)\n",
    "plt.show()"
   ]
  },
  {
   "cell_type": "code",
   "execution_count": 176,
   "metadata": {},
   "outputs": [
    {
     "name": "stdout",
     "output_type": "stream",
     "text": [
      "ranking_1    3.487864\n",
      "ranking_2    3.915254\n",
      "ranking_3    4.278450\n",
      "ranking_4    3.433414\n",
      "ranking_5    2.634383\n",
      "ranking_6    3.244552\n",
      "dtype: float64\n"
     ]
    },
    {
     "data": {
      "image/png": "[encoded data removed]",
      "text/plain": [
       "<matplotlib.figure.Figure at 0x116809828>"
      ]
     },
     "metadata": {},
     "output_type": "display_data"
    },
    {
     "name": "stdout",
     "output_type": "stream",
     "text": [
      "seen_1    301\n",
      "seen_2    228\n",
      "seen_3    221\n",
      "seen_4    258\n",
      "seen_5    353\n",
      "seen_6    334\n",
      "dtype: int64\n"
     ]
    },
    {
     "data": {
      "image/png": "[encoded data removed]",
      "text/plain": [
       "<matplotlib.figure.Figure at 0x10db17dd8>"
      ]
     },
     "metadata": {},
     "output_type": "display_data"
    }
   ],
   "source": [
    "# Filtering if survey respondents are star_trek fans\n",
    "\n",
    "star_trek = star_wars[star_wars['Do you consider yourself to be a fan of the Star Trek franchise?'] == \"No\"]\n",
    "means = star_trek[star_trek.columns[9:15]].mean()\n",
    "print (means)\n",
    "\n",
    "fig, ax = plt.subplots()\n",
    "ax.bar(range(6), means)\n",
    "ax.set_xticklabels(ranks, rotation=90)\n",
    "plt.show()\n",
    "\n",
    "sums = star_trek[star_trek.columns[3:9]].sum()\n",
    "print (sums)\n",
    "\n",
    "    \n",
    "fig, ax = plt.subplots()\n",
    "ax.bar(range(6), sums)\n",
    "ax.set_xticklabels(seen_film, rotation=90)\n",
    "plt.show()"
   ]
  },
  {
   "cell_type": "code",
   "execution_count": 177,
   "metadata": {},
   "outputs": [
    {
     "name": "stdout",
     "output_type": "stream",
     "text": [
      "ranking_1    4.262857\n",
      "ranking_2    4.371429\n",
      "ranking_3    4.400000\n",
      "ranking_4    2.742857\n",
      "ranking_5    2.280000\n",
      "ranking_6    2.942857\n",
      "dtype: float64\n"
     ]
    },
    {
     "data": {
      "image/png": "[encoded data removed]",
      "text/plain": [
       "<matplotlib.figure.Figure at 0x10db3e780>"
      ]
     },
     "metadata": {},
     "output_type": "display_data"
    },
    {
     "name": "stdout",
     "output_type": "stream",
     "text": [
      "seen_1    160\n",
      "seen_2    143\n",
      "seen_3    139\n",
      "seen_4    159\n",
      "seen_5    171\n",
      "seen_6    169\n",
      "dtype: int64\n"
     ]
    },
    {
     "data": {
      "image/png": "[encoded data removed]",
      "text/plain": [
       "<matplotlib.figure.Figure at 0x10d7a2f98>"
      ]
     },
     "metadata": {},
     "output_type": "display_data"
    }
   ],
   "source": [
    "# Filtering if survey respondents are star_trek fans and star_wars fans.\n",
    "\n",
    "star_trek = star_wars[star_wars['Do you consider yourself to be a fan of the Star Trek franchise?'] == \"No\"]\n",
    "star_trek_wars = star_trek[star_trek['Do you consider yourself to be a fan of the Star Wars film franchise?'] == True]\n",
    "means = star_trek_wars[star_trek_wars.columns[9:15]].mean()\n",
    "print (means)\n",
    "\n",
    "fig, ax = plt.subplots()\n",
    "ax.bar(range(6), means)\n",
    "ax.set_xticklabels(ranks, rotation=90)\n",
    "plt.show()\n",
    "\n",
    "sums = star_trek_wars[star_trek_wars.columns[3:9]].sum()\n",
    "print (sums)\n",
    "\n",
    "    \n",
    "fig, ax = plt.subplots()\n",
    "ax.bar(range(6), sums)\n",
    "ax.set_xticklabels(seen_film, rotation=90)\n",
    "plt.show()"
   ]
  },
  {
   "cell_type": "code",
   "execution_count": null,
   "metadata": {
    "collapsed": true
   },
   "outputs": [],
   "source": []
  }
 ],
 "metadata": {
  "kernelspec": {
   "display_name": "Python 3",
   "language": "python",
   "name": "python3"
  },
  "language_info": {
   "codemirror_mode": {
    "name": "ipython",
    "version": 3
   },
   "file_extension": ".py",
   "mimetype": "text/x-python",
   "name": "python",
   "nbconvert_exporter": "python",
   "pygments_lexer": "ipython3",
   "version": "3.6.3"
  }
 },
 "nbformat": 4,
 "nbformat_minor": 2
}
